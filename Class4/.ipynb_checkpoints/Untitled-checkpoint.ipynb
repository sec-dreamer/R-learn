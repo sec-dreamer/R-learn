{
 "cells": [
  {
   "cell_type": "code",
   "execution_count": null,
   "id": "2dadc053-4502-4244-9c5b-2488dfa6a4bb",
   "metadata": {},
   "outputs": [],
   "source": [
    "# ===============================Q1============================\n",
    "# t1 = 23\n",
    "# t2 = 67\n",
    "# t3 = 24\n",
    "\n",
    "# t1, t2, t3 = 23, 67, 24\n",
    "\n",
    "# # 数组\n",
    "# T = [23, 67, 24, 23, 89]\n",
    "\n",
    "# # res = max(t1, t2, t3)\n",
    "# res = max(T)\n",
    "# print(res)"
   ]
  },
  {
   "cell_type": "code",
   "execution_count": 2,
   "id": "418087a5-c04b-4f6a-a695-a707cd9dcfd5",
   "metadata": {},
   "outputs": [
    {
     "name": "stdin",
     "output_type": "stream",
     "text": [
      "Please input a string:\n",
      " abc\n"
     ]
    },
    {
     "name": "stdout",
     "output_type": "stream",
     "text": [
      "abc\n",
      "ABC\n",
      "type of num: <class 'int'>\n",
      "converted_num: 12224 type of converted_num <class 'str'>\n"
     ]
    }
   ],
   "source": [
    "# ===============================Q2============================\n",
    "str_inputed = input(\"Please input a string:\\n\")\n",
    "print(str_inputed)\n",
    "\n",
    "# R\n",
    "# uppered_str = upper(\"helloworld\")\n",
    "\n",
    "# 对象和属性\n",
    "print(str_inputed.upper())\n",
    "num = 12224\n",
    "print(\"type of num:\", type(num))\n",
    "converted_num = str(num)\n",
    "# print(\"converted_num:\", converted_num, \"type of converted_num\", type(converted_num))"
   ]
  },
  {
   "cell_type": "code",
   "execution_count": 17,
   "id": "24fe6dd3-d890-4e67-9748-d7cdd735f910",
   "metadata": {
    "scrolled": true
   },
   "outputs": [
    {
     "name": "stdin",
     "output_type": "stream",
     "text": [
      "Please input a string:\n",
      " 13 14\n"
     ]
    },
    {
     "name": "stdout",
     "output_type": "stream",
     "text": [
      "a: 13 b: 14\n",
      "<class 'int'> <class 'int'>\n",
      "Modulus: 13\n",
      "Power: 3937376385699289\n"
     ]
    },
    {
     "data": {
      "text/plain": [
       "str"
      ]
     },
     "execution_count": 17,
     "metadata": {},
     "output_type": "execute_result"
    }
   ],
   "source": [
    "# ===============================Q3============================\n",
    "# modulus 13 % 4 = 1\n",
    "# power   2^3 = 8 次方 次幂\n",
    "def Modulus(a, b):\n",
    "    res = a % b\n",
    "    return res\n",
    "Modulus(13, 4)\n",
    "\n",
    "def Power(a, b):\n",
    "    res = a ** b\n",
    "    return res\n",
    "str_inputed = input(\"Please input a string:\\n\")\n",
    "str_vec = str_inputed.split(' ')\n",
    "a = int(str_vec[0])\n",
    "b = int(str_vec[1])\n",
    "print(\"a:\", a, \"b:\",b)\n",
    "print(type(a), type(b))\n",
    "# R语言中对数据的操作 都是对向量的操作\n",
    "print(\"Modulus:\",Modulus(a, b))\n",
    "print(\"Power:\",Power(a, b))\n"
   ]
  },
  {
   "cell_type": "code",
   "execution_count": 23,
   "id": "e299d1aa-4c13-46a1-91b2-1040e4682dab",
   "metadata": {},
   "outputs": [
    {
     "data": {
      "text/plain": [
       "'helloworld'"
      ]
     },
     "execution_count": 23,
     "metadata": {},
     "output_type": "execute_result"
    }
   ],
   "source": [
    "s1 = \"hello\"\n",
    "s2 = \"world\"\n",
    "s1 + s2"
   ]
  },
  {
   "cell_type": "code",
   "execution_count": 38,
   "id": "268f2aef-ab4c-4546-b2cf-6dd6d745c2ad",
   "metadata": {},
   "outputs": [
    {
     "name": "stdout",
     "output_type": "stream",
     "text": [
      "11 is a prime\n",
      "11 is not a prime\n"
     ]
    }
   ],
   "source": [
    "# ===============================Q4============================\n",
    "# what's prime?\n",
    "# >=2 , 2, 3, 5, 7, 11,........\n",
    "# N, 1...N,\n",
    "# range(2, 10)\n",
    "# [2, 10)\n",
    "import time\n",
    "\n",
    "N = 11\n",
    "for i in range(2, N + 1):\n",
    "    print(f\"N={N}, i={i}, N%i={N%i}\")\n",
    "    if i == N:\n",
    "        print(N, \"is a prime\")\n",
    "        break\n",
    "    if N % i == 0:\n",
    "        print(N, \"is not a prime\")\n",
    "        break\n",
    "    else:\n",
    "        # next\n",
    "        continue\n",
    "    time.sleep(2000)\n",
    "    \n",
    "\n",
    "\n"
   ]
  },
  {
   "cell_type": "code",
   "execution_count": null,
   "id": "3edeaefb-5eea-4da5-918f-458269e65919",
   "metadata": {},
   "outputs": [],
   "source": []
  },
  {
   "cell_type": "code",
   "execution_count": null,
   "id": "e3fbe303-99f5-4825-aee5-1e4bfa596c42",
   "metadata": {},
   "outputs": [],
   "source": []
  }
 ],
 "metadata": {
  "kernelspec": {
   "display_name": "Python 3 (ipykernel)",
   "language": "python",
   "name": "python3"
  },
  "language_info": {
   "codemirror_mode": {
    "name": "ipython",
    "version": 3
   },
   "file_extension": ".py",
   "mimetype": "text/x-python",
   "name": "python",
   "nbconvert_exporter": "python",
   "pygments_lexer": "ipython3",
   "version": "3.10.14"
  }
 },
 "nbformat": 4,
 "nbformat_minor": 5
}
