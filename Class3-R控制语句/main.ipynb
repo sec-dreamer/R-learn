{
 "cells": [
  {
   "cell_type": "code",
   "execution_count": 17,
   "id": "692ac5f1-720b-4f9b-b44d-741db1d39fdc",
   "metadata": {},
   "outputs": [
    {
     "data": {
      "text/plain": [
       "'\\nanaconda 环境，如何新建环境\\njupyter环境，快捷键，如何切换环境\\n'"
      ]
     },
     "execution_count": 17,
     "metadata": {},
     "output_type": "execute_result"
    }
   ],
   "source": [
    "#python介绍\n",
    "#环境介绍\n",
    "'''\n",
    "anaconda 环境，如何新建环境\n",
    "jupyter环境，快捷键，如何切换环境\n",
    "'''\n",
    "#python语法，缩进\\t"
   ]
  },
  {
   "cell_type": "code",
   "execution_count": null,
   "id": "7d85cff6-a8e8-463d-9536-df7f339db956",
   "metadata": {},
   "outputs": [],
   "source": [
    "import numpy as np\n",
    "from tqdm import tqdm\n",
    "import time\n",
    "val = 0\n",
    "for i in tqdm(range(0, 10)):\n",
    "    val += i\n",
    "    # input(\"input something\")\n",
    "    sorted()"
   ]
  },
  {
   "cell_type": "code",
   "execution_count": 18,
   "id": "9d9baa86-c551-4bc5-918b-40cb0ee6a449",
   "metadata": {},
   "outputs": [
    {
     "data": {
      "text/plain": [
       "True"
      ]
     },
     "execution_count": 18,
     "metadata": {},
     "output_type": "execute_result"
    }
   ],
   "source": [
    "1==1"
   ]
  },
  {
   "cell_type": "markdown",
   "id": "5d54017b-6e08-414e-bf0a-897d7c4d9db5",
   "metadata": {},
   "source": [
    "# Python"
   ]
  },
  {
   "cell_type": "code",
   "execution_count": 5,
   "id": "5f8868fc-d794-4f1c-a13c-a444573a6972",
   "metadata": {},
   "outputs": [
    {
     "ename": "SyntaxError",
     "evalue": "invalid syntax (2747887463.py, line 1)",
     "output_type": "error",
     "traceback": [
      "\u001b[1;36m  Cell \u001b[1;32mIn[5], line 1\u001b[1;36m\u001b[0m\n\u001b[1;33m    import = \"c\"\u001b[0m\n\u001b[1;37m           ^\u001b[0m\n\u001b[1;31mSyntaxError\u001b[0m\u001b[1;31m:\u001b[0m invalid syntax\n"
     ]
    }
   ],
   "source": [
    "import = \"c\""
   ]
  }
 ],
 "metadata": {
  "kernelspec": {
   "display_name": "conda_jupyter",
   "language": "python",
   "name": "jupyter"
  },
  "language_info": {
   "codemirror_mode": {
    "name": "ipython",
    "version": 3
   },
   "file_extension": ".py",
   "mimetype": "text/x-python",
   "name": "python",
   "nbconvert_exporter": "python",
   "pygments_lexer": "ipython3",
   "version": "3.10.14"
  }
 },
 "nbformat": 4,
 "nbformat_minor": 5
}
